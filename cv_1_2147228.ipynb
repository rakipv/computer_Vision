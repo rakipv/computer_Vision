{
  "nbformat": 4,
  "nbformat_minor": 0,
  "metadata": {
    "colab": {
      "provenance": [],
      "collapsed_sections": [
        "uidHoe1kVvzC",
        "5srY7MtqN14-",
        "_qNhIIs6OjoW",
        "trtsoJi8VhSX",
        "JTZmjwmQUvX4",
        "AXzuDuCTU3nC"
      ],
      "toc_visible": true
    },
    "kernelspec": {
      "name": "python3",
      "display_name": "Python 3"
    },
    "language_info": {
      "name": "python"
    }
  },
  "cells": [
    {
      "cell_type": "markdown",
      "source": [
        "#Import Libraries"
      ],
      "metadata": {
        "id": "uidHoe1kVvzC"
      }
    },
    {
      "cell_type": "code",
      "execution_count": 13,
      "metadata": {
        "id": "SaT3KSX-McY9"
      },
      "outputs": [],
      "source": [
        "from google.colab import files\n",
        "import cv2\n",
        "import matplotlib.pyplot as plt\n",
        "from PIL import Image"
      ]
    },
    {
      "cell_type": "markdown",
      "source": [],
      "metadata": {
        "id": "gyEhZSj4VYVA"
      }
    },
    {
      "cell_type": "code",
      "source": [
        "uploaded=files.upload()"
      ],
      "metadata": {
        "colab": {
          "base_uri": "https://localhost:8080/",
          "height": 73
        },
        "id": "46QBMPlTM8Ex",
        "outputId": "0d03b754-7ae8-479e-bc21-b5494813b518"
      },
      "execution_count": 3,
      "outputs": [
        {
          "output_type": "display_data",
          "data": {
            "text/plain": [
              "<IPython.core.display.HTML object>"
            ],
            "text/html": [
              "\n",
              "     <input type=\"file\" id=\"files-37d4df14-c7c3-4831-830d-66a378954371\" name=\"files[]\" multiple disabled\n",
              "        style=\"border:none\" />\n",
              "     <output id=\"result-37d4df14-c7c3-4831-830d-66a378954371\">\n",
              "      Upload widget is only available when the cell has been executed in the\n",
              "      current browser session. Please rerun this cell to enable.\n",
              "      </output>\n",
              "      <script>// Copyright 2017 Google LLC\n",
              "//\n",
              "// Licensed under the Apache License, Version 2.0 (the \"License\");\n",
              "// you may not use this file except in compliance with the License.\n",
              "// You may obtain a copy of the License at\n",
              "//\n",
              "//      http://www.apache.org/licenses/LICENSE-2.0\n",
              "//\n",
              "// Unless required by applicable law or agreed to in writing, software\n",
              "// distributed under the License is distributed on an \"AS IS\" BASIS,\n",
              "// WITHOUT WARRANTIES OR CONDITIONS OF ANY KIND, either express or implied.\n",
              "// See the License for the specific language governing permissions and\n",
              "// limitations under the License.\n",
              "\n",
              "/**\n",
              " * @fileoverview Helpers for google.colab Python module.\n",
              " */\n",
              "(function(scope) {\n",
              "function span(text, styleAttributes = {}) {\n",
              "  const element = document.createElement('span');\n",
              "  element.textContent = text;\n",
              "  for (const key of Object.keys(styleAttributes)) {\n",
              "    element.style[key] = styleAttributes[key];\n",
              "  }\n",
              "  return element;\n",
              "}\n",
              "\n",
              "// Max number of bytes which will be uploaded at a time.\n",
              "const MAX_PAYLOAD_SIZE = 100 * 1024;\n",
              "\n",
              "function _uploadFiles(inputId, outputId) {\n",
              "  const steps = uploadFilesStep(inputId, outputId);\n",
              "  const outputElement = document.getElementById(outputId);\n",
              "  // Cache steps on the outputElement to make it available for the next call\n",
              "  // to uploadFilesContinue from Python.\n",
              "  outputElement.steps = steps;\n",
              "\n",
              "  return _uploadFilesContinue(outputId);\n",
              "}\n",
              "\n",
              "// This is roughly an async generator (not supported in the browser yet),\n",
              "// where there are multiple asynchronous steps and the Python side is going\n",
              "// to poll for completion of each step.\n",
              "// This uses a Promise to block the python side on completion of each step,\n",
              "// then passes the result of the previous step as the input to the next step.\n",
              "function _uploadFilesContinue(outputId) {\n",
              "  const outputElement = document.getElementById(outputId);\n",
              "  const steps = outputElement.steps;\n",
              "\n",
              "  const next = steps.next(outputElement.lastPromiseValue);\n",
              "  return Promise.resolve(next.value.promise).then((value) => {\n",
              "    // Cache the last promise value to make it available to the next\n",
              "    // step of the generator.\n",
              "    outputElement.lastPromiseValue = value;\n",
              "    return next.value.response;\n",
              "  });\n",
              "}\n",
              "\n",
              "/**\n",
              " * Generator function which is called between each async step of the upload\n",
              " * process.\n",
              " * @param {string} inputId Element ID of the input file picker element.\n",
              " * @param {string} outputId Element ID of the output display.\n",
              " * @return {!Iterable<!Object>} Iterable of next steps.\n",
              " */\n",
              "function* uploadFilesStep(inputId, outputId) {\n",
              "  const inputElement = document.getElementById(inputId);\n",
              "  inputElement.disabled = false;\n",
              "\n",
              "  const outputElement = document.getElementById(outputId);\n",
              "  outputElement.innerHTML = '';\n",
              "\n",
              "  const pickedPromise = new Promise((resolve) => {\n",
              "    inputElement.addEventListener('change', (e) => {\n",
              "      resolve(e.target.files);\n",
              "    });\n",
              "  });\n",
              "\n",
              "  const cancel = document.createElement('button');\n",
              "  inputElement.parentElement.appendChild(cancel);\n",
              "  cancel.textContent = 'Cancel upload';\n",
              "  const cancelPromise = new Promise((resolve) => {\n",
              "    cancel.onclick = () => {\n",
              "      resolve(null);\n",
              "    };\n",
              "  });\n",
              "\n",
              "  // Wait for the user to pick the files.\n",
              "  const files = yield {\n",
              "    promise: Promise.race([pickedPromise, cancelPromise]),\n",
              "    response: {\n",
              "      action: 'starting',\n",
              "    }\n",
              "  };\n",
              "\n",
              "  cancel.remove();\n",
              "\n",
              "  // Disable the input element since further picks are not allowed.\n",
              "  inputElement.disabled = true;\n",
              "\n",
              "  if (!files) {\n",
              "    return {\n",
              "      response: {\n",
              "        action: 'complete',\n",
              "      }\n",
              "    };\n",
              "  }\n",
              "\n",
              "  for (const file of files) {\n",
              "    const li = document.createElement('li');\n",
              "    li.append(span(file.name, {fontWeight: 'bold'}));\n",
              "    li.append(span(\n",
              "        `(${file.type || 'n/a'}) - ${file.size} bytes, ` +\n",
              "        `last modified: ${\n",
              "            file.lastModifiedDate ? file.lastModifiedDate.toLocaleDateString() :\n",
              "                                    'n/a'} - `));\n",
              "    const percent = span('0% done');\n",
              "    li.appendChild(percent);\n",
              "\n",
              "    outputElement.appendChild(li);\n",
              "\n",
              "    const fileDataPromise = new Promise((resolve) => {\n",
              "      const reader = new FileReader();\n",
              "      reader.onload = (e) => {\n",
              "        resolve(e.target.result);\n",
              "      };\n",
              "      reader.readAsArrayBuffer(file);\n",
              "    });\n",
              "    // Wait for the data to be ready.\n",
              "    let fileData = yield {\n",
              "      promise: fileDataPromise,\n",
              "      response: {\n",
              "        action: 'continue',\n",
              "      }\n",
              "    };\n",
              "\n",
              "    // Use a chunked sending to avoid message size limits. See b/62115660.\n",
              "    let position = 0;\n",
              "    do {\n",
              "      const length = Math.min(fileData.byteLength - position, MAX_PAYLOAD_SIZE);\n",
              "      const chunk = new Uint8Array(fileData, position, length);\n",
              "      position += length;\n",
              "\n",
              "      const base64 = btoa(String.fromCharCode.apply(null, chunk));\n",
              "      yield {\n",
              "        response: {\n",
              "          action: 'append',\n",
              "          file: file.name,\n",
              "          data: base64,\n",
              "        },\n",
              "      };\n",
              "\n",
              "      let percentDone = fileData.byteLength === 0 ?\n",
              "          100 :\n",
              "          Math.round((position / fileData.byteLength) * 100);\n",
              "      percent.textContent = `${percentDone}% done`;\n",
              "\n",
              "    } while (position < fileData.byteLength);\n",
              "  }\n",
              "\n",
              "  // All done.\n",
              "  yield {\n",
              "    response: {\n",
              "      action: 'complete',\n",
              "    }\n",
              "  };\n",
              "}\n",
              "\n",
              "scope.google = scope.google || {};\n",
              "scope.google.colab = scope.google.colab || {};\n",
              "scope.google.colab._files = {\n",
              "  _uploadFiles,\n",
              "  _uploadFilesContinue,\n",
              "};\n",
              "})(self);\n",
              "</script> "
            ]
          },
          "metadata": {}
        },
        {
          "output_type": "stream",
          "name": "stdout",
          "text": [
            "Saving india-political-states-map.jpeg to india-political-states-map.jpeg\n"
          ]
        }
      ]
    },
    {
      "cell_type": "markdown",
      "source": [
        "#READING AND VIEWIG IMAGE"
      ],
      "metadata": {
        "id": "5srY7MtqN14-"
      }
    },
    {
      "cell_type": "code",
      "source": [
        "img=cv2.imread('india-political-states-map.jpeg')\n"
      ],
      "metadata": {
        "id": "pKwKmeNNNC1O"
      },
      "execution_count": 7,
      "outputs": []
    },
    {
      "cell_type": "code",
      "source": [
        "img=cv2.cvtColor(img,cv2.COLOR_BGR2RGB)\n",
        "plt.imshow(img)"
      ],
      "metadata": {
        "colab": {
          "base_uri": "https://localhost:8080/",
          "height": 286
        },
        "id": "mOrO7K_kNg0u",
        "outputId": "e55ff550-eb58-443b-e1ed-13838b78327f"
      },
      "execution_count": 10,
      "outputs": [
        {
          "output_type": "execute_result",
          "data": {
            "text/plain": [
              "<matplotlib.image.AxesImage at 0x7f579234c790>"
            ]
          },
          "metadata": {},
          "execution_count": 10
        },
        {
          "output_type": "display_data",
          "data": {
            "text/plain": [
              "<Figure size 432x288 with 1 Axes>"
            ],
            "image/png": "[encoded data removed]"
          },
          "metadata": {
            "needs_background": "light"
          }
        }
      ]
    },
    {
      "cell_type": "markdown",
      "source": [
        "method 2"
      ],
      "metadata": {
        "id": "hPsY4fp-N8rO"
      }
    },
    {
      "cell_type": "code",
      "source": [
        "import matplotlib.image as mpimg\n",
        "img=mpimg.imread('india-political-states-map.jpeg')\n",
        "plt.imshow(img)"
      ],
      "metadata": {
        "colab": {
          "base_uri": "https://localhost:8080/",
          "height": 286
        },
        "id": "PSH_2ziNN8Oy",
        "outputId": "25a27080-866c-482f-863d-7f3e51a2fb76"
      },
      "execution_count": 11,
      "outputs": [
        {
          "output_type": "execute_result",
          "data": {
            "text/plain": [
              "<matplotlib.image.AxesImage at 0x7f57919ebf10>"
            ]
          },
          "metadata": {},
          "execution_count": 11
        },
        {
          "output_type": "display_data",
          "data": {
            "text/plain": [
              "<Figure size 432x288 with 1 Axes>"
            ],
            "image/png": "[encoded data removed]"
          },
          "metadata": {
            "needs_background": "light"
          }
        }
      ]
    },
    {
      "cell_type": "markdown",
      "source": [
        "#Writing Image \n"
      ],
      "metadata": {
        "id": "_qNhIIs6OjoW"
      }
    },
    {
      "cell_type": "code",
      "source": [
        "cv2.imwrite('india-political-states-map.jpeg',img)"
      ],
      "metadata": {
        "colab": {
          "base_uri": "https://localhost:8080/"
        },
        "id": "_P8-mzjoOkCf",
        "outputId": "4e289ec1-3f20-4a61-da14-7dfd0f5d0966"
      },
      "execution_count": 12,
      "outputs": [
        {
          "output_type": "execute_result",
          "data": {
            "text/plain": [
              "True"
            ]
          },
          "metadata": {},
          "execution_count": 12
        }
      ]
    },
    {
      "cell_type": "markdown",
      "source": [
        "#Writing image method2 - change format"
      ],
      "metadata": {
        "id": "trtsoJi8VhSX"
      }
    },
    {
      "cell_type": "code",
      "source": [
        "\n",
        "# importing os module\n",
        "import os\n",
        "\n",
        "# Image path\n",
        "image_path = r'/content/india-political-states-map.jpeg'\n",
        "\n",
        "# Image directory\n",
        "directory = r'/content'\n",
        "\n",
        "# Using cv2.imread() method\n",
        "# to read the image\n",
        "img = cv2.imread(image_path)\n",
        "\n",
        "# Change the current directory\n",
        "# to specified directory\n",
        "os.chdir(directory)\n",
        "\n",
        "# List files and directories\n",
        "# in 'C:/Users/Rajnish/Desktop/GeeksforGeeks'\n",
        "print(\"Before saving image:\")\n",
        "print(os.listdir(directory))\n",
        "\n",
        "# Filename\n",
        "filename = 'WrittenIMage.jpg'\n",
        "\n",
        "# Using cv2.imwrite() method\n",
        "# Saving the image\n",
        "cv2.imwrite(filename, img)\n",
        "\n",
        "# List files and directories\n",
        "# in 'C:/Users / Rajnish / Desktop / GeeksforGeeks'\n",
        "print(\"After saving image:\")\n",
        "print(os.listdir(directory))\n",
        "\n",
        "print('Successfully saved')\n"
      ],
      "metadata": {
        "colab": {
          "base_uri": "https://localhost:8080/"
        },
        "id": "LYWS05AjS4WI",
        "outputId": "41bf4ed0-edd6-4a26-8112-7a444aaa6d0c"
      },
      "execution_count": 18,
      "outputs": [
        {
          "output_type": "stream",
          "name": "stdout",
          "text": [
            "Before saving image:\n",
            "['.config', 'india-political-states-map.jpeg', 'savedImage.jpg', 'sample_data']\n",
            "After saving image:\n",
            "['.config', 'india-political-states-map.jpeg', 'WrittenIMage.jpg', 'savedImage.jpg', 'sample_data']\n",
            "Successfully saved\n"
          ]
        }
      ]
    },
    {
      "cell_type": "markdown",
      "source": [
        "#BASIC INFORMATION OF THE IMAGE"
      ],
      "metadata": {
        "id": "JTZmjwmQUvX4"
      }
    },
    {
      "cell_type": "code",
      "source": [
        "image = Image.open('/content/india-political-states-map.jpeg')\n",
        "# Prints the name of the file\n",
        "print(\"Filename: \", image.filename)\n",
        " \n",
        "# Prints the format of the file\n",
        "# Eg- PNG, JPG, GIF, etc.\n",
        "print(\"Format: \", image.format)\n",
        " \n",
        "# Prints the mode of the file\n",
        "# Eg- RGB, RFBA, CMYK, etc.\n",
        "print(\"Mode: \", image.mode)\n",
        " \n",
        "# Prints the size as a width and height tuple (in pixels)\n",
        "print(\"Size: \", image.size)\n",
        " \n",
        "# Prints the width of the image (in pixels)\n",
        "print(\"Width: \", image.width)\n",
        " \n",
        "# Prints the height of the image (in pixels)\n",
        "print(\"Height: \", image.height)"
      ],
      "metadata": {
        "colab": {
          "base_uri": "https://localhost:8080/"
        },
        "id": "J1vU-fAvUniA",
        "outputId": "2f7bb640-7b30-42ce-8db5-a870dadcbf62"
      },
      "execution_count": 26,
      "outputs": [
        {
          "output_type": "stream",
          "name": "stdout",
          "text": [
            "Filename:  /content/india-political-states-map.jpeg\n",
            "Format:  JPEG\n",
            "Mode:  RGB\n",
            "Size:  (957, 1024)\n",
            "Width:  957\n",
            "Height:  1024\n"
          ]
        }
      ]
    },
    {
      "cell_type": "markdown",
      "source": [
        "#CHANGE FORMAT 2"
      ],
      "metadata": {
        "id": "AXzuDuCTU3nC"
      }
    },
    {
      "cell_type": "code",
      "source": [
        "# Specifying the RGB mode to the image\n",
        "image = image.convert('RGB')\n",
        " \n",
        "# Converting an image from jpeg to JPG format\n",
        "image.save(\"converted-jpg-image.jpg\")\n",
        "print(\"jpg image successfully converted!\")\n",
        "\n",
        "image.save(\"converted-png-image.png\")\n",
        "print(\"png Image successfully converted!\")"
      ],
      "metadata": {
        "colab": {
          "base_uri": "https://localhost:8080/"
        },
        "id": "jCsKM3yEU43I",
        "outputId": "3b8215aa-7f67-483d-fd6e-b0dcfce30e41"
      },
      "execution_count": 30,
      "outputs": [
        {
          "output_type": "stream",
          "name": "stdout",
          "text": [
            "jpg image successfully converted!\n",
            "png Image successfully converted!\n"
          ]
        }
      ]
    }
  ]
}